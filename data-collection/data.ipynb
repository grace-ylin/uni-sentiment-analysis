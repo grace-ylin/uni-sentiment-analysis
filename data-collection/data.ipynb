{
 "cells": [
  {
   "cell_type": "code",
   "execution_count": 1,
   "id": "1b3663ce",
   "metadata": {},
   "outputs": [
    {
     "data": {
      "text/plain": [
       "True"
      ]
     },
     "execution_count": 1,
     "metadata": {},
     "output_type": "execute_result"
    }
   ],
   "source": [
    "# Import libs\n",
    "import os\n",
    "import pandas as pd\n",
    "import time\n",
    "import praw\n",
    "from dotenv import load_dotenv\n",
    "import re\n",
    "\n",
    "# Load env vars for reddit api\n",
    "load_dotenv()"
   ]
  },
  {
   "cell_type": "code",
   "execution_count": 2,
   "id": "7b213043",
   "metadata": {},
   "outputs": [],
   "source": [
    "# Create reddit object using praw\n",
    "reddit = praw.Reddit(\n",
    "    client_id=os.getenv('client_id'),\n",
    "    client_secret=os.getenv('client_secret'),\n",
    "    user_agent='genalphaslang'\n",
    ")"
   ]
  },
  {
   "cell_type": "code",
   "execution_count": 3,
   "id": "7bf6b47f",
   "metadata": {},
   "outputs": [],
   "source": [
    "# Create subreddit objects\n",
    "uoft_subreddit = reddit.subreddit('UofT')\n",
    "ubc_subreddit = reddit.subreddit('UBC')\n",
    "mcgill_subreddit = reddit.subreddit('mcgill')"
   ]
  },
  {
   "cell_type": "code",
   "execution_count": null,
   "id": "72621ce4",
   "metadata": {},
   "outputs": [],
   "source": [
    "# Function to get top 1000 submissions by upvotes from a subreddit\n",
    "def get_submissions(subreddit): \n",
    "    all_submissions = []\n",
    "    for submission in subreddit.top(limit=1000):\n",
    "        submissions_dict = {}\n",
    "        submissions_dict['date_created'] = submission.created_utc\n",
    "        submissions_dict['title'] = submission.title\n",
    "        submissions_dict['description'] = submission.selftext\n",
    "        submission.comments.replace_more(limit=0)\n",
    "        submissions_dict['comments'] = [comment.body for comment in submission.comments.list()]\n",
    "        submissions_dict['upvotes'] = submission.score\n",
    "        submissions_dict['flair'] = submission.link_flair_text\n",
    "        all_submissions.append(submissions_dict)\n",
    "    return all_submissions"
   ]
  },
  {
   "cell_type": "code",
   "execution_count": null,
   "id": "uoft_collect",
   "metadata": {},
   "outputs": [],
   "source": [
    "# Collecting for uoft\n",
    "uoft_df = pd.DataFrame(get_submissions(uoft_subreddit))\n",
    "uoft_df['date_created'] = pd.to_datetime(uoft_df['date_created'], unit='s')\n",
    "uoft_df['school'] = 'uoft'"
   ]
  },
  {
   "cell_type": "code",
   "execution_count": null,
   "id": "ubc_collect",
   "metadata": {},
   "outputs": [],
   "source": [
    "# Collecting for ubc\n",
    "ubc_df = pd.DataFrame(get_submissions(ubc_subreddit))\n",
    "ubc_df['date_created'] = pd.to_datetime(ubc_df['date_created'], unit='s')\n",
    "ubc_df['school'] = 'ubc'"
   ]
  },
  {
   "cell_type": "code",
   "execution_count": null,
   "id": "mcgill_collect",
   "metadata": {},
   "outputs": [],
   "source": [
    "# Collecting for mcgill\n",
    "mcgill_df = pd.DataFrame(get_submissions(mcgill_subreddit))\n",
    "mcgill_df['date_created'] = pd.to_datetime(mcgill_df['date_created'], unit='s')\n",
    "mcgill_df['school'] = 'mcgill'"
   ]
  },
  {
   "cell_type": "code",
   "execution_count": null,
   "id": "concat_and_export",
   "metadata": {},
   "outputs": [],
   "source": [
    "# Combine all posts and export\n",
    "all_posts = pd.concat([uoft_df, ubc_df, mcgill_df], ignore_index=True)\n",
    "all_posts.to_csv(\"all_posts.csv\", index=False)"
   ]
  }
 ],
 "metadata": {
  "kernelspec": {
   "display_name": "base",
   "language": "python",
   "name": "python3"
  },
  "language_info": {
   "codemirror_mode": {
    "name": "ipython",
    "version": 3
   },
   "file_extension": ".py",
   "mimetype": "text/x-python",
   "name": "python",
   "nbconvert_exporter": "python",
   "pygments_lexer": "ipython3",
   "version": "3.12.7"
  }
 },
 "nbformat": 4,
 "nbformat_minor": 5
}
