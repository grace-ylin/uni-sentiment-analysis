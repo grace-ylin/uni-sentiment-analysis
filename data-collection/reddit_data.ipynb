{
 "cells": [
  {
   "cell_type": "code",
   "execution_count": 1,
   "id": "f7477841",
   "metadata": {},
   "outputs": [
    {
     "data": {
      "text/plain": [
       "True"
      ]
     },
     "execution_count": 1,
     "metadata": {},
     "output_type": "execute_result"
    }
   ],
   "source": [
    "import os\n",
    "import pandas as pd\n",
    "import time\n",
    "import praw\n",
    "from dotenv import load_dotenv\n",
    "\n",
    "load_dotenv()"
   ]
  },
  {
   "cell_type": "code",
   "execution_count": 5,
   "id": "537b4f25",
   "metadata": {},
   "outputs": [],
   "source": [
    "reddit = praw.Reddit(\n",
    "    client_id = os.getenv('client_id'),\n",
    "    client_secret = os.getenv('client_secret'),\n",
    "    user_agent = 'genalphaslang'\n",
    ")"
   ]
  },
  {
   "cell_type": "code",
   "execution_count": 18,
   "id": "9376edac",
   "metadata": {},
   "outputs": [],
   "source": [
    "uoft_subreddit = reddit.subreddit('UofT')"
   ]
  },
  {
   "cell_type": "markdown",
   "id": "a134049e",
   "metadata": {},
   "source": [
    "Get top 100 posts comments"
   ]
  },
  {
   "cell_type": "code",
   "execution_count": null,
   "id": "0b53fe15",
   "metadata": {},
   "outputs": [],
   "source": [
    "all_submissions = []\n",
    "for submission in uoft_subreddit.top(limit = 100):\n",
    "    submissions_dict = {}\n",
    "    submissions_dict['date_created'] = submission.created_utc\n",
    "    submissions_dict['title'] = submission.title\n",
    "    submission.comments.replace_more(limit = 0)\n",
    "    submissions_dict['comments'] = [comment.body for comment in submission.comments.list()]\n",
    "    submissions_dict['upvotes'] = submission.score\n",
    "\n",
    "    # Add to all submissions\n",
    "    all_submissions.append(submissions_dict)\n"
   ]
  },
  {
   "cell_type": "code",
   "execution_count": 37,
   "id": "bcc80de1",
   "metadata": {},
   "outputs": [],
   "source": [
    "df = pd.DataFrame(all_submissions)"
   ]
  },
  {
   "cell_type": "code",
   "execution_count": 40,
   "id": "a0b4ecb5",
   "metadata": {},
   "outputs": [
    {
     "data": {
      "text/html": [
       "<div>\n",
       "<style scoped>\n",
       "    .dataframe tbody tr th:only-of-type {\n",
       "        vertical-align: middle;\n",
       "    }\n",
       "\n",
       "    .dataframe tbody tr th {\n",
       "        vertical-align: top;\n",
       "    }\n",
       "\n",
       "    .dataframe thead th {\n",
       "        text-align: right;\n",
       "    }\n",
       "</style>\n",
       "<table border=\"1\" class=\"dataframe\">\n",
       "  <thead>\n",
       "    <tr style=\"text-align: right;\">\n",
       "      <th></th>\n",
       "      <th>date_created</th>\n",
       "      <th>title</th>\n",
       "      <th>comments</th>\n",
       "      <th>upvotes</th>\n",
       "    </tr>\n",
       "  </thead>\n",
       "  <tbody>\n",
       "    <tr>\n",
       "      <th>0</th>\n",
       "      <td>1.739385e+09</td>\n",
       "      <td>To the student who got caught using AI on thei...</td>\n",
       "      <td>[[deleted], It’s crazy that there’s people mad...</td>\n",
       "      <td>2933</td>\n",
       "    </tr>\n",
       "    <tr>\n",
       "      <th>1</th>\n",
       "      <td>1.731036e+09</td>\n",
       "      <td>[ Removed by Reddit ]</td>\n",
       "      <td>[Ik this man, he’s getting cooked. Maybe uoft ...</td>\n",
       "      <td>2935</td>\n",
       "    </tr>\n",
       "    <tr>\n",
       "      <th>2</th>\n",
       "      <td>1.605297e+09</td>\n",
       "      <td>I want a ps5</td>\n",
       "      <td>[i LOVE  how low effort this looks, pain, looo...</td>\n",
       "      <td>2751</td>\n",
       "    </tr>\n",
       "    <tr>\n",
       "      <th>3</th>\n",
       "      <td>1.481676e+09</td>\n",
       "      <td>If this thread gets over 300 upvotes in the ne...</td>\n",
       "      <td>[[deleted], [deleted], Found this in /r/all/ri...</td>\n",
       "      <td>2487</td>\n",
       "    </tr>\n",
       "    <tr>\n",
       "      <th>4</th>\n",
       "      <td>1.744488e+09</td>\n",
       "      <td>uoft academic offence cases are literally so e...</td>\n",
       "      <td>[\"The Panel does not accept this explanation a...</td>\n",
       "      <td>1987</td>\n",
       "    </tr>\n",
       "    <tr>\n",
       "      <th>5</th>\n",
       "      <td>1.741839e+09</td>\n",
       "      <td>I was playing chess with a girl, I ended up te...</td>\n",
       "      <td>[Whenever stories like these pop up, the peopl...</td>\n",
       "      <td>1928</td>\n",
       "    </tr>\n",
       "    <tr>\n",
       "      <th>6</th>\n",
       "      <td>1.717020e+09</td>\n",
       "      <td>Lady drives into cement in front of St George ...</td>\n",
       "      <td>[Thank you for posting concrete evidence of he...</td>\n",
       "      <td>1898</td>\n",
       "    </tr>\n",
       "    <tr>\n",
       "      <th>7</th>\n",
       "      <td>1.744764e+09</td>\n",
       "      <td>I walked from McMaster to UTSG (72km and 100k ...</td>\n",
       "      <td>[The \"I'll do anything but study\" award goes t...</td>\n",
       "      <td>1844</td>\n",
       "    </tr>\n",
       "    <tr>\n",
       "      <th>8</th>\n",
       "      <td>1.730491e+09</td>\n",
       "      <td>i walked 80 kilometers and 107000 steps for 24...</td>\n",
       "      <td>[Lol I’ve done utsg to utm but all the way to ...</td>\n",
       "      <td>1845</td>\n",
       "    </tr>\n",
       "    <tr>\n",
       "      <th>9</th>\n",
       "      <td>1.738895e+09</td>\n",
       "      <td>UWaterloo math 138 question: y'all are dumb as...</td>\n",
       "      <td>[If this is real, it is hilariously nerdy in a...</td>\n",
       "      <td>1703</td>\n",
       "    </tr>\n",
       "  </tbody>\n",
       "</table>\n",
       "</div>"
      ],
      "text/plain": [
       "   date_created                                              title  \\\n",
       "0  1.739385e+09  To the student who got caught using AI on thei...   \n",
       "1  1.731036e+09                              [ Removed by Reddit ]   \n",
       "2  1.605297e+09                                       I want a ps5   \n",
       "3  1.481676e+09  If this thread gets over 300 upvotes in the ne...   \n",
       "4  1.744488e+09  uoft academic offence cases are literally so e...   \n",
       "5  1.741839e+09  I was playing chess with a girl, I ended up te...   \n",
       "6  1.717020e+09  Lady drives into cement in front of St George ...   \n",
       "7  1.744764e+09  I walked from McMaster to UTSG (72km and 100k ...   \n",
       "8  1.730491e+09  i walked 80 kilometers and 107000 steps for 24...   \n",
       "9  1.738895e+09  UWaterloo math 138 question: y'all are dumb as...   \n",
       "\n",
       "                                            comments  upvotes  \n",
       "0  [[deleted], It’s crazy that there’s people mad...     2933  \n",
       "1  [Ik this man, he’s getting cooked. Maybe uoft ...     2935  \n",
       "2  [i LOVE  how low effort this looks, pain, looo...     2751  \n",
       "3  [[deleted], [deleted], Found this in /r/all/ri...     2487  \n",
       "4  [\"The Panel does not accept this explanation a...     1987  \n",
       "5  [Whenever stories like these pop up, the peopl...     1928  \n",
       "6  [Thank you for posting concrete evidence of he...     1898  \n",
       "7  [The \"I'll do anything but study\" award goes t...     1844  \n",
       "8  [Lol I’ve done utsg to utm but all the way to ...     1845  \n",
       "9  [If this is real, it is hilariously nerdy in a...     1703  "
      ]
     },
     "execution_count": 40,
     "metadata": {},
     "output_type": "execute_result"
    }
   ],
   "source": [
    "df"
   ]
  }
 ],
 "metadata": {
  "kernelspec": {
   "display_name": "base",
   "language": "python",
   "name": "python3"
  },
  "language_info": {
   "codemirror_mode": {
    "name": "ipython",
    "version": 3
   },
   "file_extension": ".py",
   "mimetype": "text/x-python",
   "name": "python",
   "nbconvert_exporter": "python",
   "pygments_lexer": "ipython3",
   "version": "3.12.7"
  }
 },
 "nbformat": 4,
 "nbformat_minor": 5
}
