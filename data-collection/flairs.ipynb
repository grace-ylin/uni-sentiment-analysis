{
 "cells": [
  {
   "cell_type": "code",
   "execution_count": 1,
   "id": "c7283f42",
   "metadata": {},
   "outputs": [],
   "source": [
    "# Import libs\n",
    "import pandas as pd\n",
    "import seaborn as sns\n",
    "import matplotlib.pyplot as plt"
   ]
  },
  {
   "cell_type": "code",
   "execution_count": 2,
   "id": "6138ab28",
   "metadata": {},
   "outputs": [
    {
     "data": {
      "text/plain": [
       "(2996, 7)"
      ]
     },
     "execution_count": 2,
     "metadata": {},
     "output_type": "execute_result"
    }
   ],
   "source": [
    "# Read in csv for all universities\n",
    "df = pd.read_csv('all_posts.csv')\n",
    "df.shape"
   ]
  },
  {
   "cell_type": "markdown",
   "id": "e7c422a7",
   "metadata": {},
   "source": [
    "Social media tends to have a lot of memes/non-sensical discussion. For this project it would be valuable to filter out these types of posts and focus on posts that are more likely to have criticisms about the university."
   ]
  },
  {
   "cell_type": "code",
   "execution_count": 3,
   "id": "06cf5d84",
   "metadata": {},
   "outputs": [
    {
     "data": {
      "text/plain": [
       "array(['Transfers', 'Discussion', 'Humour', 'Serious', 'News', 'Other',\n",
       "       'Rant', 'Health', 'Clubs/Sports', 'Social', 'Event', 'Courses',\n",
       "       'Waterloo #173', 'Academics', 'Advice', 'Confirmed', 'Meta', nan,\n",
       "       'Shitpost', 'Lost & Found', 'Question', 'Politics', 'Life Advice',\n",
       "       'Admissions', 'Finances', 'Programs', 'ACORN/Quercus/Outlook',\n",
       "       'Free Speech', 'Waterloo #201–250', 'UTM/UTSC',\n",
       "       \"I'm in High School\", 'Jobs', 'Photography & Art',\n",
       "       'Pho(ur seasons)tography & Art', '@ SFU (Exception)', 'Megathread',\n",
       "       'Congrats, you made it!', 'Photography &amp; Art',\n",
       "       'Humour - Satire', 'SFU = Studying For UBC', 'Prose', '🍁',\n",
       "       '100% super duper confirmed by the r/byssey', '🔥🔥🔥',\n",
       "       'Ghost-type Humour', 'Unverified', 'Lost Dog', '🎉🎉🎉',\n",
       "       'Read Comments Section for full context', 'Missing Person', 'F',\n",
       "       'Spicy', 'HQ Post', 'Spicy Meme', 'We did it, reddit!',\n",
       "       'HQ shitpost', 'Certified Dank', 'shitpost', 'Political',\n",
       "       'I should be working rn', 'MEGATHREAD', 'University Politics',\n",
       "       'TW: sexual violence', 'From Laurier University', 'TW: Suicide',\n",
       "       'Martlet Club', 'coronavirus', 'HQ Shitpost', 'Wholesome Post',\n",
       "       'artsy shitpost', 'SSMU', 'megathread', 'Resolved! ',\n",
       "       'TW: sexual harrassment', 'Stay Home', 'Funny/Meme'], dtype=object)"
      ]
     },
     "execution_count": 3,
     "metadata": {},
     "output_type": "execute_result"
    }
   ],
   "source": [
    "# Want to see post flairs, and subsequently filter for non-shitposts\n",
    "df['flair'].unique()"
   ]
  },
  {
   "cell_type": "code",
   "execution_count": 4,
   "id": "b812338a",
   "metadata": {},
   "outputs": [
    {
     "data": {
      "text/plain": [
       "flair\n",
       "Humour               961\n",
       "Discussion           223\n",
       "Other                159\n",
       "Photography & Art    116\n",
       "shitpost              73\n",
       "News                  49\n",
       "Academics             28\n",
       "Advice                22\n",
       "Courses               22\n",
       "HQ Post               21\n",
       "Name: count, dtype: int64"
      ]
     },
     "execution_count": 4,
     "metadata": {},
     "output_type": "execute_result"
    }
   ],
   "source": [
    "# Most popular flairs\n",
    "df['flair'].value_counts()[:10]"
   ]
  },
  {
   "cell_type": "code",
   "execution_count": 5,
   "id": "1ab0ee6e",
   "metadata": {},
   "outputs": [
    {
     "data": {
      "text/plain": [
       "(1485, 7)"
      ]
     },
     "execution_count": 5,
     "metadata": {},
     "output_type": "execute_result"
    }
   ],
   "source": [
    "df = df[df['flair'].isin(['Humour', 'Discussion', 'Other', 'News', 'Academics', 'Advice', 'Courses', 'HQ Post'])]\n",
    "df.shape"
   ]
  },
  {
   "cell_type": "markdown",
   "id": "860d7c10",
   "metadata": {},
   "source": [
    "# Cleaning Data"
   ]
  },
  {
   "cell_type": "code",
   "execution_count": 6,
   "id": "977dbecf",
   "metadata": {},
   "outputs": [
    {
     "data": {
      "text/html": [
       "<div>\n",
       "<style scoped>\n",
       "    .dataframe tbody tr th:only-of-type {\n",
       "        vertical-align: middle;\n",
       "    }\n",
       "\n",
       "    .dataframe tbody tr th {\n",
       "        vertical-align: top;\n",
       "    }\n",
       "\n",
       "    .dataframe thead th {\n",
       "        text-align: right;\n",
       "    }\n",
       "</style>\n",
       "<table border=\"1\" class=\"dataframe\">\n",
       "  <thead>\n",
       "    <tr style=\"text-align: right;\">\n",
       "      <th></th>\n",
       "      <th>date_created</th>\n",
       "      <th>title</th>\n",
       "      <th>description</th>\n",
       "      <th>comments</th>\n",
       "      <th>upvotes</th>\n",
       "      <th>flair</th>\n",
       "      <th>university</th>\n",
       "      <th>combined_text</th>\n",
       "      <th>lemmatized_tokens</th>\n",
       "    </tr>\n",
       "  </thead>\n",
       "  <tbody>\n",
       "    <tr>\n",
       "      <th>1</th>\n",
       "      <td>2024-11-08 03:24:09</td>\n",
       "      <td>[ Removed by Reddit ]</td>\n",
       "      <td>[ Removed by Reddit on account of violating th...</td>\n",
       "      <td>['Ik this man, he’s getting cooked. Maybe uoft...</td>\n",
       "      <td>2939</td>\n",
       "      <td>Discussion</td>\n",
       "      <td>UofT</td>\n",
       "      <td>['ik this man, he’s getting cooked. maybe uoft...</td>\n",
       "      <td>[man, getting, cooked, maybe, uoft, anything, ...</td>\n",
       "    </tr>\n",
       "    <tr>\n",
       "      <th>2</th>\n",
       "      <td>2020-11-13 19:48:06</td>\n",
       "      <td>I want a ps5</td>\n",
       "      <td>NaN</td>\n",
       "      <td>['i LOVE  how low effort this looks', 'pain', ...</td>\n",
       "      <td>2749</td>\n",
       "      <td>Humour</td>\n",
       "      <td>UofT</td>\n",
       "      <td>i want a ps5  ['i love  how low effort this lo...</td>\n",
       "      <td>[want, love, low, effort, look, u, made, day, ...</td>\n",
       "    </tr>\n",
       "    <tr>\n",
       "      <th>4</th>\n",
       "      <td>2025-05-14 00:11:02</td>\n",
       "      <td>University of Toronto Faculty Association vote...</td>\n",
       "      <td>NaN</td>\n",
       "      <td>['Big W, honestly im surprised', 'W faculty', ...</td>\n",
       "      <td>2163</td>\n",
       "      <td>News</td>\n",
       "      <td>UofT</td>\n",
       "      <td>uoft faculty association votes to divest from ...</td>\n",
       "      <td>[uoft, faculty, association, vote, divest, isr...</td>\n",
       "    </tr>\n",
       "    <tr>\n",
       "      <th>5</th>\n",
       "      <td>2025-04-12 20:03:29</td>\n",
       "      <td>uoft academic offence cases are literally so e...</td>\n",
       "      <td>NaN</td>\n",
       "      <td>['\"The Panel does not accept this explanation ...</td>\n",
       "      <td>1996</td>\n",
       "      <td>Other</td>\n",
       "      <td>UofT</td>\n",
       "      <td>uoft academic offence cases are literally so e...</td>\n",
       "      <td>[uoft, academic, offence, case, literally, ent...</td>\n",
       "    </tr>\n",
       "    <tr>\n",
       "      <th>7</th>\n",
       "      <td>2024-05-29 21:56:51</td>\n",
       "      <td>Lady drives into cement in front of St George ...</td>\n",
       "      <td>NaN</td>\n",
       "      <td>['Thank you for posting concrete evidence of h...</td>\n",
       "      <td>1905</td>\n",
       "      <td>Humour</td>\n",
       "      <td>UofT</td>\n",
       "      <td>lady drives into cement in front of st george ...</td>\n",
       "      <td>[lady, drive, cement, front, st, george, stati...</td>\n",
       "    </tr>\n",
       "  </tbody>\n",
       "</table>\n",
       "</div>"
      ],
      "text/plain": [
       "          date_created                                              title  \\\n",
       "1  2024-11-08 03:24:09                              [ Removed by Reddit ]   \n",
       "2  2020-11-13 19:48:06                                       I want a ps5   \n",
       "4  2025-05-14 00:11:02  University of Toronto Faculty Association vote...   \n",
       "5  2025-04-12 20:03:29  uoft academic offence cases are literally so e...   \n",
       "7  2024-05-29 21:56:51  Lady drives into cement in front of St George ...   \n",
       "\n",
       "                                         description  \\\n",
       "1  [ Removed by Reddit on account of violating th...   \n",
       "2                                                NaN   \n",
       "4                                                NaN   \n",
       "5                                                NaN   \n",
       "7                                                NaN   \n",
       "\n",
       "                                            comments  upvotes       flair  \\\n",
       "1  ['Ik this man, he’s getting cooked. Maybe uoft...     2939  Discussion   \n",
       "2  ['i LOVE  how low effort this looks', 'pain', ...     2749      Humour   \n",
       "4  ['Big W, honestly im surprised', 'W faculty', ...     2163        News   \n",
       "5  ['\"The Panel does not accept this explanation ...     1996       Other   \n",
       "7  ['Thank you for posting concrete evidence of h...     1905      Humour   \n",
       "\n",
       "  university                                      combined_text  \\\n",
       "1       UofT  ['ik this man, he’s getting cooked. maybe uoft...   \n",
       "2       UofT  i want a ps5  ['i love  how low effort this lo...   \n",
       "4       UofT  uoft faculty association votes to divest from ...   \n",
       "5       UofT  uoft academic offence cases are literally so e...   \n",
       "7       UofT  lady drives into cement in front of st george ...   \n",
       "\n",
       "                                   lemmatized_tokens  \n",
       "1  [man, getting, cooked, maybe, uoft, anything, ...  \n",
       "2  [want, love, low, effort, look, u, made, day, ...  \n",
       "4  [uoft, faculty, association, vote, divest, isr...  \n",
       "5  [uoft, academic, offence, case, literally, ent...  \n",
       "7  [lady, drive, cement, front, st, george, stati...  "
      ]
     },
     "execution_count": 6,
     "metadata": {},
     "output_type": "execute_result"
    }
   ],
   "source": [
    "import re\n",
    "from nltk.tokenize import word_tokenize\n",
    "from nltk.corpus import stopwords\n",
    "from nltk.stem import WordNetLemmatizer\n",
    "\n",
    "# Init stopwords\n",
    "stop_words = set(stopwords.words(\"english\"))\n",
    "\n",
    "def clean_text(df):\n",
    "    '''\n",
    "    This function does 3 things\n",
    "\n",
    "    1. Combines text from title, description and comments\n",
    "    2. Normalizes university names\n",
    "    3. Tokenizes and lemmatizes text and removes stopwords + reddit specific words\n",
    "\n",
    "    '''\n",
    "    remove_words = ['removed', 'deleted', '[ removed by reddit ]', '[deleted]']\n",
    "    # custom_stopwords = {'student', 'course', 'people', 'get', 'like', 'time', 'year', 'would'}\n",
    "    # Combine text from title, description and comments\n",
    "    def combine_text(text): \n",
    "\n",
    "        if isinstance(text, list):\n",
    "            return ' '.join([word for word in text if isinstance(word, str) and word.lower() not in remove_words])\n",
    "        elif isinstance(text, str): \n",
    "            # Filter out posts removed by reddit\n",
    "            if re.search(r\"\\[?\\s*removed by reddit.*?\\]?\", text, flags=re.IGNORECASE):\n",
    "                return ''\n",
    "            return text\n",
    "        return ''\n",
    "\n",
    "    \n",
    "    \n",
    "    # Normalize university names\n",
    "    def normalize_university(text):\n",
    "        # Regex to normalize uni names\n",
    "        text = re.sub(r'u\\sof\\st', 'uoft', text)\n",
    "        text = re.sub(r'university of toronto', 'uoft', text)\n",
    "        text = re.sub(r'university of british columbia', 'ubc', text)\n",
    "        return text\n",
    "\n",
    "    # Tokenize + lematize + remove stopwords\n",
    "    def tokenize_and_lemmatize(text): \n",
    "\n",
    "        # Tokenize\n",
    "        tokens = word_tokenize(text)\n",
    "\n",
    "        # Filter for strings\n",
    "        words = [word for word in tokens if word.isalpha()]\n",
    "\n",
    "        # Remove stopwords\n",
    "        words = [word for word in words if word not in stop_words]\n",
    "        \n",
    "        # Lemmatize\n",
    "        lemmatizer = WordNetLemmatizer()\n",
    "        return [lemmatizer.lemmatize(word) for word in words]\n",
    "    \n",
    "    # Combine text\n",
    "    df['combined_text'] = (df['title'].apply(combine_text).fillna('') + ' ' +\n",
    "                       df['description'].apply(combine_text).fillna('') + ' ' +\n",
    "                       df['comments'].apply(combine_text))\n",
    "\n",
    "    # Lower + removing trailing charsa\n",
    "    df['combined_text'] = df['combined_text'].str.lower().str.strip()\n",
    "    \n",
    "    # Normalize university names\n",
    "    df['combined_text'] = df['combined_text'].apply(normalize_university)\n",
    "\n",
    "    # Tokenize + lemmatize\n",
    "    df['lemmatized_tokens'] = df['combined_text'].apply(tokenize_and_lemmatize)\n",
    "\n",
    "    # Return cleaned df\n",
    "    return df\n",
    "\n",
    "df = clean_text(df)\n",
    "\n",
    "df.head()"
   ]
  },
  {
   "cell_type": "markdown",
   "id": "b51a48a2",
   "metadata": {},
   "source": [
    "## Investigating top k words"
   ]
  },
  {
   "cell_type": "code",
   "execution_count": 7,
   "id": "82ff2688",
   "metadata": {},
   "outputs": [
    {
     "name": "stdout",
     "output_type": "stream",
     "text": [
      "---All Posts---\n",
      "[('people', 7483), ('like', 7290), ('student', 6169), ('get', 5848), ('year', 5517), ('one', 4958), ('time', 4590), ('would', 4538), ('think', 4144), ('course', 3882)]\n",
      "---Discussion---\n",
      "[('people', 3817), ('like', 3058), ('student', 2560), ('get', 2262), ('would', 1921), ('one', 1875), ('year', 1851), ('think', 1815), ('time', 1560), ('know', 1559)]\n",
      "---Humour---\n",
      "[('like', 2250), ('get', 1882), ('year', 1841), ('people', 1606), ('one', 1567), ('student', 1558), ('course', 1456), ('time', 1429), ('would', 1160), ('class', 1133)]\n",
      "---News---\n",
      "[('people', 699), ('student', 545), ('like', 378), ('get', 358), ('would', 343), ('one', 328), ('think', 313), ('uoft', 269), ('know', 269), ('http', 267)]\n",
      "---Other---\n",
      "[('like', 749), ('people', 556), ('year', 533), ('one', 527), ('get', 517), ('student', 495), ('would', 456), ('think', 436), ('time', 433), ('uoft', 362)]\n",
      "---Courses---\n",
      "[('course', 336), ('student', 262), ('like', 218), ('class', 211), ('time', 149), ('one', 145), ('year', 144), ('prof', 143), ('would', 137), ('get', 133)]\n",
      "---Academics---\n",
      "[('student', 374), ('course', 234), ('exam', 194), ('get', 181), ('people', 172), ('like', 161), ('prof', 161), ('one', 143), ('would', 138), ('time', 129)]\n",
      "---Advice---\n",
      "[('year', 765), ('time', 598), ('get', 465), ('people', 402), ('like', 397), ('course', 369), ('take', 328), ('student', 326), ('would', 324), ('work', 319)]\n",
      "---HQ Post---\n",
      "[('people', 121), ('like', 79), ('time', 62), ('mcgill', 61), ('would', 59), ('year', 57), ('know', 55), ('one', 55), ('building', 52), ('also', 51)]\n"
     ]
    }
   ],
   "source": [
    "from collections import Counter\n",
    "\n",
    "def get_topk_words(df, k):\n",
    "    '''\n",
    "    Takes a df and returns top k words from tokens\n",
    "    '''\n",
    "    all_tokens = [token for row in df['lemmatized_tokens'] for token in row]\n",
    "\n",
    "    # Count frequencies\n",
    "    token_counts = Counter(all_tokens)\n",
    "\n",
    "    # Get top K words\n",
    "    top_k = token_counts.most_common(k)\n",
    "\n",
    "    return top_k\n",
    "\n",
    "# Get top 10 most common words across all posts\n",
    "print(f'---All Posts---\\n{get_topk_words(df, 10)}')\n",
    "\n",
    "# Get top 10 most common words across flairs\n",
    "for flair in df['flair'].unique():\n",
    "    print(f'---{flair}---\\n{get_topk_words(df[df['flair'] == flair], 10)}')\n"
   ]
  },
  {
   "cell_type": "markdown",
   "id": "9c8b3da5",
   "metadata": {},
   "source": [
    "It seems all posts feature words that are probably common throughout the entire subreddit. Need to figure out a way to explore specific topics people are talking about.."
   ]
  },
  {
   "cell_type": "markdown",
   "id": "666f45da",
   "metadata": {},
   "source": [
    "Mutual Information (MI). If we treat our flair as a rough topic label, we can use MI to tell us information that is shared in the non-linear relationships between tokens and flairs."
   ]
  },
  {
   "cell_type": "code",
   "execution_count": null,
   "id": "28269221",
   "metadata": {},
   "outputs": [],
   "source": [
    "# 500 most common words\n",
    "top_500 = get_topk_words(df, 500)\n",
    "\n",
    "# Create matrix where columns have bool indicating whether specific post has a word \n",
    "mi_df = pd.DataFrame(df['flair'])\n",
    "\n",
    "for word, _ in top_500:\n",
    "    mi_df[word] = df['lemmatized_tokens'].apply(lambda tokens: int(word in tokens))"
   ]
  },
  {
   "cell_type": "code",
   "execution_count": 9,
   "id": "61f7cf0b",
   "metadata": {},
   "outputs": [],
   "source": [
    "from sklearn.metrics import mutual_info_score\n",
    "\n",
    "def getMI(topk, df, label_column = 'flair'):\n",
    "\n",
    "    # Get flair names\n",
    "    unique_labels = df[label_column].unique()\n",
    "\n",
    "    # Placeholder df\n",
    "    overalldf = pd.DataFrame()\n",
    "\n",
    "    for flair in unique_labels:\n",
    "        miscore = []\n",
    "        label = df[label_column].copy()\n",
    "\n",
    "\n",
    "        label[label != flair] = 0\n",
    "        label[label == flair] = 1\n",
    "\n",
    "        # Get MI for topk words in flair\n",
    "        for word in topk:\n",
    "            miscore.append([word[0]] + [mutual_info_score(label, df[word[0]])] + [flair])\n",
    "\n",
    "        # Combine scores of all words for flair into df\n",
    "        miscoredf = pd.DataFrame(miscore).sort_values(1, ascending = False)\n",
    "        miscoredf.columns = ['word', 'mi', 'flair']\n",
    "        overalldf = pd.concat([overalldf, miscoredf])\n",
    "\n",
    "    return overalldf"
   ]
  },
  {
   "cell_type": "code",
   "execution_count": 10,
   "id": "c7c39a84",
   "metadata": {},
   "outputs": [
    {
     "data": {
      "text/html": [
       "<div>\n",
       "<style scoped>\n",
       "    .dataframe tbody tr th:only-of-type {\n",
       "        vertical-align: middle;\n",
       "    }\n",
       "\n",
       "    .dataframe tbody tr th {\n",
       "        vertical-align: top;\n",
       "    }\n",
       "\n",
       "    .dataframe thead th {\n",
       "        text-align: right;\n",
       "    }\n",
       "</style>\n",
       "<table border=\"1\" class=\"dataframe\">\n",
       "  <thead>\n",
       "    <tr style=\"text-align: right;\">\n",
       "      <th></th>\n",
       "      <th>flair</th>\n",
       "      <th>word</th>\n",
       "      <th>mi</th>\n",
       "    </tr>\n",
       "  </thead>\n",
       "  <tbody>\n",
       "    <tr>\n",
       "      <th>0</th>\n",
       "      <td>Academics</td>\n",
       "      <td>final</td>\n",
       "      <td>0.009494</td>\n",
       "    </tr>\n",
       "    <tr>\n",
       "      <th>1</th>\n",
       "      <td>Academics</td>\n",
       "      <td>test</td>\n",
       "      <td>0.007639</td>\n",
       "    </tr>\n",
       "    <tr>\n",
       "      <th>2</th>\n",
       "      <td>Academics</td>\n",
       "      <td>try</td>\n",
       "      <td>0.007560</td>\n",
       "    </tr>\n",
       "    <tr>\n",
       "      <th>3</th>\n",
       "      <td>Academics</td>\n",
       "      <td>cheat</td>\n",
       "      <td>0.006734</td>\n",
       "    </tr>\n",
       "    <tr>\n",
       "      <th>4</th>\n",
       "      <td>Academics</td>\n",
       "      <td>cheating</td>\n",
       "      <td>0.006734</td>\n",
       "    </tr>\n",
       "    <tr>\n",
       "      <th>...</th>\n",
       "      <td>...</td>\n",
       "      <td>...</td>\n",
       "      <td>...</td>\n",
       "    </tr>\n",
       "    <tr>\n",
       "      <th>65</th>\n",
       "      <td>Other</td>\n",
       "      <td>science</td>\n",
       "      <td>0.005963</td>\n",
       "    </tr>\n",
       "    <tr>\n",
       "      <th>66</th>\n",
       "      <td>Other</td>\n",
       "      <td>average</td>\n",
       "      <td>0.005336</td>\n",
       "    </tr>\n",
       "    <tr>\n",
       "      <th>67</th>\n",
       "      <td>Other</td>\n",
       "      <td>thanks</td>\n",
       "      <td>0.005097</td>\n",
       "    </tr>\n",
       "    <tr>\n",
       "      <th>68</th>\n",
       "      <td>Other</td>\n",
       "      <td>education</td>\n",
       "      <td>0.004984</td>\n",
       "    </tr>\n",
       "    <tr>\n",
       "      <th>69</th>\n",
       "      <td>Other</td>\n",
       "      <td>department</td>\n",
       "      <td>0.004841</td>\n",
       "    </tr>\n",
       "  </tbody>\n",
       "</table>\n",
       "<p>70 rows × 3 columns</p>\n",
       "</div>"
      ],
      "text/plain": [
       "        flair        word        mi\n",
       "0   Academics       final  0.009494\n",
       "1   Academics        test  0.007639\n",
       "2   Academics         try  0.007560\n",
       "3   Academics       cheat  0.006734\n",
       "4   Academics    cheating  0.006734\n",
       "..        ...         ...       ...\n",
       "65      Other     science  0.005963\n",
       "66      Other     average  0.005336\n",
       "67      Other      thanks  0.005097\n",
       "68      Other   education  0.004984\n",
       "69      Other  department  0.004841\n",
       "\n",
       "[70 rows x 3 columns]"
      ]
     },
     "execution_count": 10,
     "metadata": {},
     "output_type": "execute_result"
    }
   ],
   "source": [
    "# Add university back into df \n",
    "mi_df['university'] = df['university']\n",
    "\n",
    "uoft_mi_scores = getMI(top_500, mi_df[mi_df['university'] == 'UofT'])\n",
    "ubc_mi_scores = getMI(top_500, mi_df[mi_df['university'] == 'UBC'])\n",
    "mcgill_mi_scores = getMI(top_500, mi_df[mi_df['university'] == 'McGill'])\n",
    "\n",
    "# Display UofT top mi words by flair\n",
    "uoft_mi_scores.set_index(['word']).groupby('flair')['mi'].nlargest(10).reset_index()"
   ]
  },
  {
   "cell_type": "code",
   "execution_count": 11,
   "id": "5ed3596b",
   "metadata": {},
   "outputs": [
    {
     "data": {
      "text/html": [
       "<div>\n",
       "<style scoped>\n",
       "    .dataframe tbody tr th:only-of-type {\n",
       "        vertical-align: middle;\n",
       "    }\n",
       "\n",
       "    .dataframe tbody tr th {\n",
       "        vertical-align: top;\n",
       "    }\n",
       "\n",
       "    .dataframe thead th {\n",
       "        text-align: right;\n",
       "    }\n",
       "</style>\n",
       "<table border=\"1\" class=\"dataframe\">\n",
       "  <thead>\n",
       "    <tr style=\"text-align: right;\">\n",
       "      <th></th>\n",
       "      <th>flair</th>\n",
       "      <th>word</th>\n",
       "      <th>mi</th>\n",
       "    </tr>\n",
       "  </thead>\n",
       "  <tbody>\n",
       "    <tr>\n",
       "      <th>0</th>\n",
       "      <td>Discussion</td>\n",
       "      <td>hope</td>\n",
       "      <td>0.089152</td>\n",
       "    </tr>\n",
       "    <tr>\n",
       "      <th>1</th>\n",
       "      <td>Discussion</td>\n",
       "      <td>care</td>\n",
       "      <td>0.082731</td>\n",
       "    </tr>\n",
       "    <tr>\n",
       "      <th>2</th>\n",
       "      <td>Discussion</td>\n",
       "      <td>world</td>\n",
       "      <td>0.079777</td>\n",
       "    </tr>\n",
       "    <tr>\n",
       "      <th>3</th>\n",
       "      <td>Discussion</td>\n",
       "      <td>going</td>\n",
       "      <td>0.075632</td>\n",
       "    </tr>\n",
       "    <tr>\n",
       "      <th>4</th>\n",
       "      <td>Discussion</td>\n",
       "      <td>post</td>\n",
       "      <td>0.074031</td>\n",
       "    </tr>\n",
       "    <tr>\n",
       "      <th>5</th>\n",
       "      <td>Discussion</td>\n",
       "      <td>want</td>\n",
       "      <td>0.073769</td>\n",
       "    </tr>\n",
       "    <tr>\n",
       "      <th>6</th>\n",
       "      <td>Discussion</td>\n",
       "      <td>anyone</td>\n",
       "      <td>0.073078</td>\n",
       "    </tr>\n",
       "    <tr>\n",
       "      <th>7</th>\n",
       "      <td>Discussion</td>\n",
       "      <td>help</td>\n",
       "      <td>0.072177</td>\n",
       "    </tr>\n",
       "    <tr>\n",
       "      <th>8</th>\n",
       "      <td>Discussion</td>\n",
       "      <td>around</td>\n",
       "      <td>0.072157</td>\n",
       "    </tr>\n",
       "    <tr>\n",
       "      <th>9</th>\n",
       "      <td>Discussion</td>\n",
       "      <td>something</td>\n",
       "      <td>0.071614</td>\n",
       "    </tr>\n",
       "    <tr>\n",
       "      <th>10</th>\n",
       "      <td>Humour</td>\n",
       "      <td>hope</td>\n",
       "      <td>0.107506</td>\n",
       "    </tr>\n",
       "    <tr>\n",
       "      <th>11</th>\n",
       "      <td>Humour</td>\n",
       "      <td>care</td>\n",
       "      <td>0.097383</td>\n",
       "    </tr>\n",
       "    <tr>\n",
       "      <th>12</th>\n",
       "      <td>Humour</td>\n",
       "      <td>going</td>\n",
       "      <td>0.091132</td>\n",
       "    </tr>\n",
       "    <tr>\n",
       "      <th>13</th>\n",
       "      <td>Humour</td>\n",
       "      <td>want</td>\n",
       "      <td>0.090138</td>\n",
       "    </tr>\n",
       "    <tr>\n",
       "      <th>14</th>\n",
       "      <td>Humour</td>\n",
       "      <td>issue</td>\n",
       "      <td>0.089390</td>\n",
       "    </tr>\n",
       "    <tr>\n",
       "      <th>15</th>\n",
       "      <td>Humour</td>\n",
       "      <td>anyone</td>\n",
       "      <td>0.086305</td>\n",
       "    </tr>\n",
       "    <tr>\n",
       "      <th>16</th>\n",
       "      <td>Humour</td>\n",
       "      <td>may</td>\n",
       "      <td>0.085687</td>\n",
       "    </tr>\n",
       "    <tr>\n",
       "      <th>17</th>\n",
       "      <td>Humour</td>\n",
       "      <td>sure</td>\n",
       "      <td>0.085442</td>\n",
       "    </tr>\n",
       "    <tr>\n",
       "      <th>18</th>\n",
       "      <td>Humour</td>\n",
       "      <td>world</td>\n",
       "      <td>0.084156</td>\n",
       "    </tr>\n",
       "    <tr>\n",
       "      <th>19</th>\n",
       "      <td>Humour</td>\n",
       "      <td>absolutely</td>\n",
       "      <td>0.083898</td>\n",
       "    </tr>\n",
       "    <tr>\n",
       "      <th>20</th>\n",
       "      <td>News</td>\n",
       "      <td>issue</td>\n",
       "      <td>0.019902</td>\n",
       "    </tr>\n",
       "    <tr>\n",
       "      <th>21</th>\n",
       "      <td>News</td>\n",
       "      <td>may</td>\n",
       "      <td>0.017820</td>\n",
       "    </tr>\n",
       "    <tr>\n",
       "      <th>22</th>\n",
       "      <td>News</td>\n",
       "      <td>still</td>\n",
       "      <td>0.017777</td>\n",
       "    </tr>\n",
       "    <tr>\n",
       "      <th>23</th>\n",
       "      <td>News</td>\n",
       "      <td>find</td>\n",
       "      <td>0.017199</td>\n",
       "    </tr>\n",
       "    <tr>\n",
       "      <th>24</th>\n",
       "      <td>News</td>\n",
       "      <td>ubc</td>\n",
       "      <td>0.017020</td>\n",
       "    </tr>\n",
       "    <tr>\n",
       "      <th>25</th>\n",
       "      <td>News</td>\n",
       "      <td>given</td>\n",
       "      <td>0.015994</td>\n",
       "    </tr>\n",
       "    <tr>\n",
       "      <th>26</th>\n",
       "      <td>News</td>\n",
       "      <td>open</td>\n",
       "      <td>0.015917</td>\n",
       "    </tr>\n",
       "    <tr>\n",
       "      <th>27</th>\n",
       "      <td>News</td>\n",
       "      <td>enough</td>\n",
       "      <td>0.015654</td>\n",
       "    </tr>\n",
       "    <tr>\n",
       "      <th>28</th>\n",
       "      <td>News</td>\n",
       "      <td>live</td>\n",
       "      <td>0.015633</td>\n",
       "    </tr>\n",
       "    <tr>\n",
       "      <th>29</th>\n",
       "      <td>News</td>\n",
       "      <td>staff</td>\n",
       "      <td>0.014533</td>\n",
       "    </tr>\n",
       "  </tbody>\n",
       "</table>\n",
       "</div>"
      ],
      "text/plain": [
       "         flair        word        mi\n",
       "0   Discussion        hope  0.089152\n",
       "1   Discussion        care  0.082731\n",
       "2   Discussion       world  0.079777\n",
       "3   Discussion       going  0.075632\n",
       "4   Discussion        post  0.074031\n",
       "5   Discussion        want  0.073769\n",
       "6   Discussion      anyone  0.073078\n",
       "7   Discussion        help  0.072177\n",
       "8   Discussion      around  0.072157\n",
       "9   Discussion   something  0.071614\n",
       "10      Humour        hope  0.107506\n",
       "11      Humour        care  0.097383\n",
       "12      Humour       going  0.091132\n",
       "13      Humour        want  0.090138\n",
       "14      Humour       issue  0.089390\n",
       "15      Humour      anyone  0.086305\n",
       "16      Humour         may  0.085687\n",
       "17      Humour        sure  0.085442\n",
       "18      Humour       world  0.084156\n",
       "19      Humour  absolutely  0.083898\n",
       "20        News       issue  0.019902\n",
       "21        News         may  0.017820\n",
       "22        News       still  0.017777\n",
       "23        News        find  0.017199\n",
       "24        News         ubc  0.017020\n",
       "25        News       given  0.015994\n",
       "26        News        open  0.015917\n",
       "27        News      enough  0.015654\n",
       "28        News        live  0.015633\n",
       "29        News       staff  0.014533"
      ]
     },
     "execution_count": 11,
     "metadata": {},
     "output_type": "execute_result"
    }
   ],
   "source": [
    "# UBC\n",
    "ubc_mi_scores.set_index(['word']).groupby('flair')['mi'].nlargest(10).reset_index()"
   ]
  },
  {
   "cell_type": "code",
   "execution_count": 12,
   "id": "486e3029",
   "metadata": {},
   "outputs": [
    {
     "data": {
      "text/html": [
       "<div>\n",
       "<style scoped>\n",
       "    .dataframe tbody tr th:only-of-type {\n",
       "        vertical-align: middle;\n",
       "    }\n",
       "\n",
       "    .dataframe tbody tr th {\n",
       "        vertical-align: top;\n",
       "    }\n",
       "\n",
       "    .dataframe thead th {\n",
       "        text-align: right;\n",
       "    }\n",
       "</style>\n",
       "<table border=\"1\" class=\"dataframe\">\n",
       "  <thead>\n",
       "    <tr style=\"text-align: right;\">\n",
       "      <th></th>\n",
       "      <th>flair</th>\n",
       "      <th>word</th>\n",
       "      <th>mi</th>\n",
       "    </tr>\n",
       "  </thead>\n",
       "  <tbody>\n",
       "    <tr>\n",
       "      <th>0</th>\n",
       "      <td>HQ Post</td>\n",
       "      <td>people</td>\n",
       "      <td>0.0</td>\n",
       "    </tr>\n",
       "    <tr>\n",
       "      <th>1</th>\n",
       "      <td>HQ Post</td>\n",
       "      <td>studying</td>\n",
       "      <td>0.0</td>\n",
       "    </tr>\n",
       "    <tr>\n",
       "      <th>2</th>\n",
       "      <td>HQ Post</td>\n",
       "      <td>black</td>\n",
       "      <td>0.0</td>\n",
       "    </tr>\n",
       "    <tr>\n",
       "      <th>3</th>\n",
       "      <td>HQ Post</td>\n",
       "      <td>library</td>\n",
       "      <td>0.0</td>\n",
       "    </tr>\n",
       "    <tr>\n",
       "      <th>4</th>\n",
       "      <td>HQ Post</td>\n",
       "      <td>check</td>\n",
       "      <td>0.0</td>\n",
       "    </tr>\n",
       "    <tr>\n",
       "      <th>5</th>\n",
       "      <td>HQ Post</td>\n",
       "      <td>future</td>\n",
       "      <td>0.0</td>\n",
       "    </tr>\n",
       "    <tr>\n",
       "      <th>6</th>\n",
       "      <td>HQ Post</td>\n",
       "      <td>saw</td>\n",
       "      <td>0.0</td>\n",
       "    </tr>\n",
       "    <tr>\n",
       "      <th>7</th>\n",
       "      <td>HQ Post</td>\n",
       "      <td>uni</td>\n",
       "      <td>0.0</td>\n",
       "    </tr>\n",
       "    <tr>\n",
       "      <th>8</th>\n",
       "      <td>HQ Post</td>\n",
       "      <td>tuition</td>\n",
       "      <td>0.0</td>\n",
       "    </tr>\n",
       "    <tr>\n",
       "      <th>9</th>\n",
       "      <td>HQ Post</td>\n",
       "      <td>quite</td>\n",
       "      <td>0.0</td>\n",
       "    </tr>\n",
       "  </tbody>\n",
       "</table>\n",
       "</div>"
      ],
      "text/plain": [
       "     flair      word   mi\n",
       "0  HQ Post    people  0.0\n",
       "1  HQ Post  studying  0.0\n",
       "2  HQ Post     black  0.0\n",
       "3  HQ Post   library  0.0\n",
       "4  HQ Post     check  0.0\n",
       "5  HQ Post    future  0.0\n",
       "6  HQ Post       saw  0.0\n",
       "7  HQ Post       uni  0.0\n",
       "8  HQ Post   tuition  0.0\n",
       "9  HQ Post     quite  0.0"
      ]
     },
     "execution_count": 12,
     "metadata": {},
     "output_type": "execute_result"
    }
   ],
   "source": [
    "# McGill\n",
    "mcgill_mi_scores.set_index(['word']).groupby('flair')['mi'].nlargest(10).reset_index()"
   ]
  },
  {
   "cell_type": "markdown",
   "id": "cb4412e3",
   "metadata": {},
   "source": [
    "# Sentiment Analysis"
   ]
  },
  {
   "cell_type": "code",
   "execution_count": 13,
   "id": "bedba697",
   "metadata": {},
   "outputs": [],
   "source": [
    "from nltk.sentiment import SentimentIntensityAnalyzer\n",
    "\n",
    "def evalsentences(sentences, to_df = False, columns = []):\n",
    "    sid = SentimentIntensityAnalyzer()\n",
    "    pdlist = []\n",
    "\n",
    "    if to_df:\n",
    "        for idx, sentence in sentences.items():\n",
    "            ss = sid.polarity_scores(sentence)\n",
    "            pdlist.append([idx, sentence] + [ss['compound']])\n",
    "        df = pd.DataFrame(pdlist, columns = ['index'] + columns)\n",
    "        df.set_index('index', inplace = True)\n",
    "        df.index.name = None\n",
    "        return df\n",
    "    \n",
    "    else:\n",
    "        for sentrence in sentences:\n",
    "            print('\\n' + sentence)\n",
    "            ss = sid.polarity_scores(sentence)\n",
    "            for k in sorted(ss):\n",
    "                print('{0}: {1}, '.format(k, ss[k], end = ''))\n",
    "            print()"
   ]
  },
  {
   "cell_type": "code",
   "execution_count": 14,
   "id": "4892a476",
   "metadata": {},
   "outputs": [
    {
     "data": {
      "text/plain": [
       "Text(0.5, 1.0, 'Distribution of VADER sentiment scores across posts')"
      ]
     },
     "execution_count": 14,
     "metadata": {},
     "output_type": "execute_result"
    },
    {
     "data": {
      "image/png": "[encoded data removed]",
      "text/plain": [
       "<Figure size 640x480 with 1 Axes>"
      ]
     },
     "metadata": {},
     "output_type": "display_data"
    }
   ],
   "source": [
    "comments = df['combined_text']\n",
    "vader_df = evalsentences(comments, to_df = True, columns = ['comments', 'vader'])\n",
    "\n",
    "# See distribution of sentiment across posts\n",
    "sns.histplot(vader_df['vader'])\n",
    "plt.title('Distribution of VADER sentiment scores across posts')"
   ]
  },
  {
   "cell_type": "code",
   "execution_count": 17,
   "id": "7354ed01",
   "metadata": {},
   "outputs": [
    {
     "data": {
      "text/plain": [
       "flair\n",
       "News          0.45\n",
       "Humour        0.23\n",
       "Discussion    0.22\n",
       "Academics     0.18\n",
       "Other         0.18\n",
       "Advice        0.14\n",
       "HQ Post       0.14\n",
       "Courses       0.05\n",
       "Name: is_neg, dtype: float64"
      ]
     },
     "execution_count": 17,
     "metadata": {},
     "output_type": "execute_result"
    }
   ],
   "source": [
    "# Set option to show longer comments\n",
    "pd.set_option('display.max_colwidth', 100)\n",
    "\n",
    "# Add flair back in\n",
    "vader_df['flair'] = df['flair']\n",
    "\n",
    "# See what percent of comments are rated negative from VADER by flair\n",
    "vader_df['is_neg'] = vader_df['vader'] < 0\n",
    "\n",
    "percent_neg = (vader_df.groupby('flair')['is_neg']\n",
    "               .mean()\n",
    "               .round(2) \n",
    "               ).sort_values(ascending = False)\n",
    "\n",
    "percent_neg"
   ]
  },
  {
   "cell_type": "code",
   "execution_count": 18,
   "id": "dae256da",
   "metadata": {},
   "outputs": [
    {
     "data": {
      "image/png": "[encoded data removed]",
      "text/plain": [
       "<Figure size 500x500 with 1 Axes>"
      ]
     },
     "metadata": {},
     "output_type": "display_data"
    },
    {
     "data": {
      "image/png": "[encoded data removed]",
      "text/plain": [
       "<Figure size 500x500 with 1 Axes>"
      ]
     },
     "metadata": {},
     "output_type": "display_data"
    },
    {
     "data": {
      "image/png": "[encoded data removed]",
      "text/plain": [
       "<Figure size 500x500 with 1 Axes>"
      ]
     },
     "metadata": {},
     "output_type": "display_data"
    },
    {
     "data": {
      "image/png": "[encoded data removed]",
      "text/plain": [
       "<Figure size 500x500 with 1 Axes>"
      ]
     },
     "metadata": {},
     "output_type": "display_data"
    },
    {
     "data": {
      "image/png": "[encoded data removed]",
      "text/plain": [
       "<Figure size 500x500 with 1 Axes>"
      ]
     },
     "metadata": {},
     "output_type": "display_data"
    },
    {
     "data": {
      "image/png": "[encoded data removed]",
      "text/plain": [
       "<Figure size 500x500 with 1 Axes>"
      ]
     },
     "metadata": {},
     "output_type": "display_data"
    },
    {
     "data": {
      "image/png": "[encoded data removed]",
      "text/plain": [
       "<Figure size 500x500 with 1 Axes>"
      ]
     },
     "metadata": {},
     "output_type": "display_data"
    },
    {
     "data": {
      "image/png": "[encoded data removed]",
      "text/plain": [
       "<Figure size 500x500 with 1 Axes>"
      ]
     },
     "metadata": {},
     "output_type": "display_data"
    }
   ],
   "source": [
    "for flair in vader_df['flair'].unique():\n",
    "    plt.figure(figsize=(5,5))\n",
    "    sns.histplot(vader_df[vader_df['flair'] == flair]['vader'])\n",
    "    plt.title(f'Distribution of VADER sentiment for {flair} posts')\n",
    "    plt.xlabel('Sentiment')\n",
    "    plt.ylabel('Count')\n",
    "    plt.tight_layout()\n",
    "    plt.show()"
   ]
  },
  {
   "cell_type": "markdown",
   "id": "da516f1c",
   "metadata": {},
   "source": [
    "News posts have the highest ratio of negative sentiment whilst courses have the lowest"
   ]
  }
 ],
 "metadata": {
  "kernelspec": {
   "display_name": "base",
   "language": "python",
   "name": "python3"
  },
  "language_info": {
   "codemirror_mode": {
    "name": "ipython",
    "version": 3
   },
   "file_extension": ".py",
   "mimetype": "text/x-python",
   "name": "python",
   "nbconvert_exporter": "python",
   "pygments_lexer": "ipython3",
   "version": "3.12.7"
  }
 },
 "nbformat": 4,
 "nbformat_minor": 5
}
